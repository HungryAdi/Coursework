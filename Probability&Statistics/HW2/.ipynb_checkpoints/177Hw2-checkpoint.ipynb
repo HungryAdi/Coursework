{
 "cells": [
  {
   "cell_type": "code",
   "execution_count": 91,
   "metadata": {
    "collapsed": true
   },
   "outputs": [],
   "source": [
    "import matplotlib.pyplot as plt"
   ]
  },
  {
   "cell_type": "markdown",
   "metadata": {},
   "source": [
    "# CS 177 HW 2\n",
    "### Aditya Iyer - 24377286\n",
    "\n",
    "## Problem 1\n",
    "### a)\n",
    "* expected number of disk failures in one year = E[X]\n",
    "\n",
    "\\begin{eqnarray*}\n",
    "n = 3\\\\\n",
    "k = 2\\\\\n",
    "P(1 disk fail) = p\\\\\n",
    "E[x] = np\\\\\n",
    "E[X] = 3p\\\\\n",
    "P(functioning) = P(X>=2) = P(X=2) + P(X=3)\\\\\n",
    "P(X>=2) = \\binom{3}{2}*p^2(1-p)^1 + \\binom{3}{3}p^3(1-p)^0\\\\\n",
    "P(functioning) = (3*p^2(1-p)) + p^3\\\\\n",
    "P(functioning) = (3p^2 - 3p^3) + p^3\\\\\n",
    "P(functioning) = 3p^2 - 2p^3\n",
    "\\end{eqnarray*}\n",
    "\n",
    "### b)\n",
    "* expected number of disk failures in one year = E[X]\n",
    "\n",
    "\\begin{eqnarray*}\n",
    "n = 5\\\\\n",
    "k = 3\\\\\n",
    "P(1 disk fail) = p\\\\\n",
    "E[x] = np\\\\\n",
    "E[X] = 5p\\\\\n",
    "P(functioning) = P(X>=3) = P(X=3) + P(X=4) + P(X=5)\\\\\n",
    "P(functioning) = \\binom{5}{3}*p^3(1-p)^2 + \\binom{5}{4}*p^4(1-p)^1 + \\binom{5}{5}*p^5(1-p)^0\\\\\n",
    "P(functioning) = (10p^3(1-p)^2) + (5p^4(1-p)) + p^5\\\\\n",
    "\\end{eqnarray*}\n",
    "\n",
    "### c)\n",
    "* Suppose p = 0.1\n",
    "\n",
    "\\begin{eqnarray*}\n",
    "a) = 3(0.1)^2 - 2(0.1)^3\\\\\n",
    "a) = 0.028\\\\\n",
    "b) = (10(0.1)^3(1-0.1)^2) + (5(0.1)^4(1-(0.1))) + (0.1)^5\\\\\n",
    "b) = 0.00856\\\\\n",
    "\\end{eqnarray*}\n",
    "\n",
    "* Since a > b, the system described in a) is a more reliable system\n",
    "\n",
    "### d)\n",
    "* Suppose p = 0.6\n",
    "\n",
    "\\begin{eqnarray*}\n",
    "a) = 3(0.6)^2 - 2(0.6)^3\\\\\n",
    "a) = 0.648\\\\\n",
    "b) = (10(0.6)^3(1-0.6)^2) + (5(0.6)^4(1-(0.6))) + (0.6)^5\\\\\n",
    "b) = 0.68256\\\\\n",
    "\\end{eqnarray*}\n",
    "\n",
    "* Since b > a, the system described in b) is a more reliable system\n",
    "\n",
    "\n"
   ]
  },
  {
   "cell_type": "markdown",
   "metadata": {},
   "source": [
    "## Problem 2\n",
    "### a)\n",
    "* Expected payoff of single roll:\n",
    "\n",
    "\\begin{eqnarray*}\n",
    "\\frac{1+2+3+4+5}{5}*P(1,2,3,4,5)\\\\\n",
    "=\\frac{15}{5}*\\frac{5}{6}\\\\\n",
    "\\end{eqnarray*}\n",
    "\n",
    "* Expected payoff of multiple rolls:\n",
    "\n",
    "\\begin{eqnarray*}\n",
    "n*3(\\frac{5}{6})^n\\\\\n",
    "\\end{eqnarray*}\n"
   ]
  },
  {
   "cell_type": "code",
   "execution_count": 96,
   "metadata": {},
   "outputs": [
    {
     "data": {
      "image/png": "[encoded data removed]",
      "text/plain": [
       "<matplotlib.figure.Figure at 0x1f93c10f0>"
      ]
     },
     "metadata": {},
     "output_type": "display_data"
    }
   ],
   "source": [
    "def do_payoff(n):\n",
    "    return (n*3*((5/6)**n))\n",
    "\n",
    "n = []\n",
    "func_arr = []\n",
    "for i in range(20):\n",
    "    n.append(i+1)\n",
    "    func_arr.append(do_payoff(i+1))\n",
    "plt.plot(n,func_arr,'bo',label=\"Expected Payoff\")\n",
    "plt.legend()\n",
    "plt.show()"
   ]
  },
  {
   "cell_type": "markdown",
   "metadata": {},
   "source": [
    "The smallest value that maximizes payoff is n = 6\n",
    "\n",
    "### b)\n",
    "\n",
    "\\begin{eqnarray*}\n",
    "E[X] = E[\\sum\\limits_{i=1}^6X]\\\\\n",
    "E[X] = \\sum\\limits_{i=1}^6P(distinct)\\\\\n",
    "E[X] = \\sum\\limits_{i=1}^6 (1-(\\frac{5}{6})^n)\\\\\n",
    "E[X] = 6-(\\frac{5}{6})^n\\\\\n",
    "E[X] = 6-0.1615\\\\\n",
    "E[X] = 5.8385\n",
    "\\end{eqnarray*}"
   ]
  },
  {
   "cell_type": "markdown",
   "metadata": {},
   "source": [
    "## Problem 3\n",
    "### a)\n",
    "\\begin{eqnarray*}\n",
    "P(C=1) = 0 + 0.1 + 0.05 + 0.25\\\\\n",
    "P(C=1) = 0.4\\\\\n",
    "\\end{eqnarray*}\n",
    "\n",
    "### b)\n",
    "\\begin{eqnarray*}\n",
    "P(C=0|X=1,Y=0) = P(C=0,X=1,Y=0)/P(X=1,Y=0)\\\\\n",
    "P(C=0|X=1,Y=0) = 0.2/(0.2+0.05)\\\\\n",
    "P(C=0|X=1,Y=0) = 0.2/0.25\\\\\n",
    "P(C=0|X=1,Y=0) = 0.8\n",
    "\\end{eqnarray*}\n",
    "\n",
    "### c)\n",
    "\\begin{eqnarray*}\n",
    "P(X=0,Y=0) = 0.1 + 0.0\\\\\n",
    "P(X=0,Y=0) = 0.1\\\\\n",
    "\\end{eqnarray*}\n",
    "\n",
    "### d)\n",
    "\\begin{eqnarray*}\n",
    "P(C=0|X=0) = P(C=0,X=0)/P(X=0)\\\\\n",
    "P(C=0|X=0) = (0.1+0.2)/(0.1+0.2+0+0.1)\\\\\n",
    "P(C=0|X=0) = 0.3/0.4\\\\\n",
    "P(C=0|X=0) = 0.75\\\\\n",
    "\\end{eqnarray*}\n",
    "\n",
    "### e)\n",
    "* If X and Y are independent...\n",
    "\n",
    "\\begin{eqnarray*}\n",
    "P(X|Y) = P(X)P(Y)\\\\\n",
    "P(X)*P(Y) = (0.2+0.1+0.05+0.25)(0.2+0.1+0.1+0.25)\\\\\n",
    "P(X)*P(Y) = (0.6)(0.65)\\\\\n",
    "P(X)*P(Y) = 0.39\\\\\n",
    "P(X|Y) = P(X,Y)/P(Y)\\\\\n",
    "P(X|Y) = (0.1+0.25)/0.65\\\\\n",
    "P(X|Y) = 0.35/0.65\\\\\n",
    "P(X|Y) = 0.538\\\\\n",
    "P(X|Y) != P(X)P(Y)\\\\\n",
    "\\end{eqnarray*}\n",
    "\n",
    "* Therefore X and Y are NOT independent\n",
    "\n",
    "### f)\n",
    "* If X and Y are conditionally independent...\n",
    "\n",
    "\\begin{eqnarray*}\n",
    "P(X,Y|C) = P(X|C)P(Y|C)\\\\\n",
    "P(X,Y|C) = \\frac{P(X,C)}{P(C)}*\\frac{P(Y,C)}{P(C)}\\\\\n",
    "P(X,Y|C) = \\frac{0.3}{0.4}*\\frac{0.35}{0.4}\\\\\n",
    "P(X,Y|C) = 0.75*0.875\\\\\n",
    "P(X,Y|C) = 0.6562\\\\\n",
    "\\end{eqnarray*}\n",
    "\n",
    "* If X and Y are not conditionally independent...\n",
    "\n",
    "\\begin{eqnarray*}\n",
    "P(X,Y|C) = \\frac{P(X,Y,C)}{P(C)}\\\\\n",
    "P(X,Y|C) = \\frac{0.25}{0.4}\\\\\n",
    "P(X,Y|C) = 0.625\\\\\n",
    "\\end{eqnarray*}\n",
    "\n",
    "* Therefore, X and Y are NOT condionally independednt\n",
    "\n",
    "## Problem 4\n",
    "### a)\n",
    "\\begin{eqnarray*}\n",
    "P(Y=S|X) > P(Y=H|X)\\\\\n",
    "P(Y=S,X)/P(X) > P(Y=H,X)/P(X)\\\\\n",
    "P(Y=S,X) > P(Y=H,X)\\\\\n",
    "P(X|Y=S)P(Y=S) > P(X|Y=H)P(Y=H)\\\\\n",
    "(1):P(Y=S) = P(Y=H) = 0.5\\\\\n",
    "P(X|Y=S)0.5 > P(X|Y=H)0.5\\\\\n",
    "P(X|Y=S) > P(X|Y=H)\\\\\n",
    "\\end{eqnarray*}\n"
   ]
  },
  {
   "cell_type": "code",
   "execution_count": 18,
   "metadata": {
    "collapsed": true
   },
   "outputs": [],
   "source": [
    "import numpy as np\n",
    "from scipy.io import loadmat\n",
    "\n",
    "def load_data():\n",
    "    data = loadmat('enron.mat')\n",
    "    trainFeat = np.array(data['trainFeat'], dtype=bool)\n",
    "    trainLabels = np.squeeze(data['trainLabels'])\n",
    "    testFeat = np.array(data['testFeat'], dtype=bool)\n",
    "    testLabels = np.squeeze(data['testLabels'])\n",
    "    vocab = np.squeeze(data['vocab'])\n",
    "    vocab = [vocab[i][0].encode('ascii', 'ignore') for i in range(len(vocab))]\n",
    "    data = dict(trainFeat=trainFeat, trainLabels=trainLabels,\n",
    "                testFeat=testFeat, testLabels=testLabels, vocab=vocab)\n",
    "    return data\n",
    "\n",
    "# Load data\n",
    "data = load_data()\n",
    "trainFeat = data['trainFeat']\n",
    "trainLabels = data['trainLabels']\n",
    "testFeat = data['testFeat']\n",
    "testLabels = data['testLabels']\n",
    "vocab = data['vocab']\n",
    "W = len(vocab)"
   ]
  },
  {
   "cell_type": "code",
   "execution_count": 81,
   "metadata": {
    "scrolled": false
   },
   "outputs": [
    {
     "data": {
      "text/plain": [
       "\"\\n# Display words that are common in one class, but rare in the other\\nind = np.argsort(countsHam-countsSpam)\\nprint('Words common in Ham but not Spam:')\\nfor i in range(-1, -100, -1):\\n    print(vocab[ind[i]])\\n#print\\nprint('Words common in Spam but not Ham:')\\n#for i in range(100):\\n   # print(vocab[ind[i]])\\n\""
      ]
     },
     "execution_count": 81,
     "metadata": {},
     "output_type": "execute_result"
    }
   ],
   "source": [
    "'''\n",
    "    Data description:\n",
    "    - trainFeat: (Dtrain, W) logical 2d-array of word appearance for training documents.\n",
    "    - trainLabels: (Dtrain,) 1d-array of {0,1} training labels where 0=ham, 1=spam.\n",
    "    - testFeat: (Dtest, W) logical 2d-array of word appearance for test documents.\n",
    "    - testLabels:  (Dtest,) 1d-array of {0,1} test labels where 0=ham, 1=spam.\n",
    "    - vocab: (W,) 1d-array where vocab[i] is the English characters for word i.\n",
    "'''\n",
    "\n",
    "# Different possible vocabularies to use in classification, uncomment chosen line\n",
    "#vocabInds =  179  # Part (c): \"money\"\n",
    "#vocabInds =  859  # Part (d): \"thanks\"\n",
    "#vocabInds = 2211  # Part (e): \"possibilities\"\n",
    "#vocabInds = [179, 859, 2211]  # Part (f): \"money\", \"thanks\", & \"possibilities\"\n",
    "vocabInds = np.arange(W)  # Part (g): full vocabularly of all W words\n",
    "\n",
    "# Separate \"ham\" and \"spam\" classes, subsample selected vocabulary words\n",
    "trainHam  = trainFeat[trainLabels == 0][:, vocabInds]\n",
    "trainSpam = trainFeat[trainLabels == 1][:, vocabInds]\n",
    "\n",
    "# Number of training examples of each class\n",
    "numHam = len(trainHam)\n",
    "numSpam = len(trainSpam)\n",
    "\n",
    "# Count number of times each word occurs in each class\n",
    "countsHam = np.sum(trainHam, axis=0)\n",
    "# P(X_ij=1 | Y_i=H) can be computed from countsHam and numHam\n",
    "countsSpam = np.sum(trainSpam, axis=0)\n",
    "# P(X_ij=1 | Y_i=S) can be computed from countsSpam and numSpam\n",
    "\n",
    "'''\n",
    "# Display words that are common in one class, but rare in the other\n",
    "ind = np.argsort(countsHam-countsSpam)\n",
    "print('Words common in Ham but not Spam:')\n",
    "for i in range(-1, -100, -1):\n",
    "    print(vocab[ind[i]])\n",
    "#print\n",
    "print('Words common in Spam but not Ham:')\n",
    "#for i in range(100):\n",
    "   # print(vocab[ind[i]])\n",
    "'''\n",
    "#print(countsHam)"
   ]
  },
  {
   "cell_type": "markdown",
   "metadata": {},
   "source": [
    "### b)"
   ]
  },
  {
   "cell_type": "code",
   "execution_count": 26,
   "metadata": {
    "collapsed": true
   },
   "outputs": [],
   "source": [
    "def computeProbabilities():\n",
    "    PwordGivenSpam = countsSpam/numSpam\n",
    "    PwordGivenHam = countsHam/numHam\n",
    "    PNotwordGivenSpam = (numSpam - countsSpam)/numSpam\n",
    "    PNotwordGivenHam = (numHam - countsHam)/numHam\n",
    "    return (PwordGivenSpam,PwordGivenHam,PNotwordGivenSpam,PNotwordGivenHam)"
   ]
  },
  {
   "cell_type": "markdown",
   "metadata": {},
   "source": [
    "### c)"
   ]
  },
  {
   "cell_type": "code",
   "execution_count": 34,
   "metadata": {},
   "outputs": [
    {
     "name": "stdout",
     "output_type": "stream",
     "text": [
      "Probability of 'money' given target Spam: 0.16414288487672296\n",
      "Probability of 'money' given target Ham: 0.030321345824518987\n",
      "\n",
      "Classifier test accuracy: 0.08170225385527877\n"
     ]
    }
   ],
   "source": [
    "accuracy = 0\n",
    "PwordSpam, PwordHam, _, _ = computeProbabilities()\n",
    "print(\"Probability of 'money' given target Spam: {}\".format(PwordSpam))\n",
    "print(\"Probability of 'money' given target Ham: {}\\n\".format(PwordHam))\n",
    "\n",
    "for i in range(len(testFeat)):\n",
    "    if (testFeat[i][179] == 1):\n",
    "        if (testLabels[i] == 1):\n",
    "            accuracy += 1\n",
    "accuracy /= len(testFeat)\n",
    "print(\"Classifier test accuracy: {}\".format(accuracy))\n"
   ]
  },
  {
   "cell_type": "markdown",
   "metadata": {},
   "source": [
    "### d) "
   ]
  },
  {
   "cell_type": "code",
   "execution_count": 39,
   "metadata": {},
   "outputs": [
    {
     "name": "stdout",
     "output_type": "stream",
     "text": [
      "Probability of 'thanks' given target Spam: 0.06853038245000971\n",
      "Probability of 'thanks' given target Ham: 0.32013700010073537\n",
      "\n",
      "Classifier test accuracy: 0.15732502965599052\n"
     ]
    }
   ],
   "source": [
    "accuracy = 0\n",
    "PwordSpam, PwordHam, _, _ = computeProbabilities()\n",
    "print(\"Probability of 'thanks' given target Spam: {}\".format(PwordSpam))\n",
    "print(\"Probability of 'thanks' given target Ham: {}\\n\".format(PwordHam))\n",
    "\n",
    "for i in range(len(testFeat)):\n",
    "    if (testFeat[i][859] == 1):\n",
    "        if (testLabels[i] == 0):\n",
    "            accuracy += 1\n",
    "accuracy /= len(testFeat)\n",
    "print(\"Classifier test accuracy: {}\".format(accuracy))"
   ]
  },
  {
   "cell_type": "markdown",
   "metadata": {},
   "source": [
    "There is a difference in classifier accuracy from c to d given the difference in frequency of the words 'thanks' and 'money' in the training and test sets"
   ]
  },
  {
   "cell_type": "markdown",
   "metadata": {},
   "source": [
    "### e)"
   ]
  },
  {
   "cell_type": "code",
   "execution_count": 42,
   "metadata": {},
   "outputs": [
    {
     "name": "stdout",
     "output_type": "stream",
     "text": [
      "Probability of 'possibilities' given target Spam: 0.0025237817899437004\n",
      "Probability of 'possibilities' given target Ham: 0.0025183842046942683\n",
      "\n",
      "Classifier test accuracy: 0.035142348754448396\n"
     ]
    }
   ],
   "source": [
    "accuracy = 0\n",
    "PwordSpam, PwordHam, _, _ = computeProbabilities()\n",
    "print(\"Probability of 'possibilities' given target Spam: {}\".format(PwordSpam))\n",
    "print(\"Probability of 'possibilities' given target Ham: {}\\n\".format(PwordHam))\n",
    "\n",
    "for i in range(len(testFeat)):\n",
    "    if (testFeat[i][859] == 1):\n",
    "        if (testLabels[i] == 1):\n",
    "            accuracy += 1\n",
    "accuracy /= len(testFeat)\n",
    "print(\"Classifier test accuracy: {}\".format(accuracy))"
   ]
  },
  {
   "cell_type": "markdown",
   "metadata": {},
   "source": [
    "There is a difference in classifier accuracy from e to c and d given the difference in frequency of the words \"possibilities,'thanks' and 'money' in the training and test sets"
   ]
  },
  {
   "cell_type": "markdown",
   "metadata": {},
   "source": [
    "### f)"
   ]
  },
  {
   "cell_type": "code",
   "execution_count": 80,
   "metadata": {},
   "outputs": [
    {
     "name": "stdout",
     "output_type": "stream",
     "text": [
      "Probability of 'money,thanks,possibilities' given target Spam: [ 0.16414288  0.06853038  0.00252378]\n",
      "Probability of 'money,thanks,possibilities' given target Ham: [ 0.03032135  0.320137    0.00251838]\n",
      "\n"
     ]
    }
   ],
   "source": [
    "accuracy = 0\n",
    "PwordSpam, PwordHam, _, _ = computeProbabilities()\n",
    "print(\"Probability of 'money,thanks,possibilities' given target Spam: {}\".format(PwordSpam))\n",
    "print(\"Probability of 'money,thanks,possibilities' given target Ham: {}\\n\".format(PwordHam))"
   ]
  },
  {
   "cell_type": "code",
   "execution_count": 72,
   "metadata": {},
   "outputs": [
    {
     "name": "stdout",
     "output_type": "stream",
     "text": [
      "Classifier test accuracy: 0.6362153424193941\n"
     ]
    }
   ],
   "source": [
    "Yhat = []\n",
    "\n",
    "\n",
    "for i in range(len(testFeat)):\n",
    "    probSpam = 1\n",
    "    probHam = 1\n",
    "    if (testFeat[i][179] == 1):\n",
    "        probSpam *= PwordSpam[0]\n",
    "        probHam *= PwordHam[0]\n",
    "    if (testFeat[i][859] == 1):\n",
    "        probSpam *= PwordSpam[1]\n",
    "        probHam *= PwordHam[1]\n",
    "    if (testFeat[i][2211] == 1):\n",
    "        probSpam *= PwordSpam[2]\n",
    "        probHam *= PwordHam[2]\n",
    "    \n",
    "    if (probSpam >= probHam):\n",
    "        Yhat.append(1)\n",
    "    elif(probSpam < probHam):\n",
    "        Yhat.append(0)\n",
    "            \n",
    "for j in range(len(testFeat)):\n",
    "    if (Yhat[j] == testLabels[j]):\n",
    "        accuracy += 1\n",
    "accuracy /= len(testFeat)\n",
    "print(\"Classifier test accuracy: {}\".format(accuracy))"
   ]
  },
  {
   "cell_type": "markdown",
   "metadata": {},
   "source": [
    "### g)"
   ]
  },
  {
   "cell_type": "code",
   "execution_count": 88,
   "metadata": {},
   "outputs": [
    {
     "name": "stdout",
     "output_type": "stream",
     "text": [
      "Probability of 'possibilities' given target Spam: [  1.09493302e-01   3.53620656e-01   6.45505727e-02 ...,   9.70685304e-05\n",
      "   9.70685304e-05   9.70685304e-05]\n",
      "Probability of 'possibilities' given target Ham: [ 0.07484638  0.32890098  0.0512743  ...,  0.00100735  0.00120882\n",
      "  0.00110809]\n",
      "\n"
     ]
    }
   ],
   "source": [
    "accuracy = 0\n",
    "\n",
    "PwordSpam, PwordHam, _, _ = computeProbabilities()\n",
    "print(\"Probability of 'possibilities' given target Spam: {}\".format(PwordSpam))\n",
    "print(\"Probability of 'possibilities' given target Ham: {}\\n\".format(PwordHam))"
   ]
  },
  {
   "cell_type": "code",
   "execution_count": 89,
   "metadata": {},
   "outputs": [
    {
     "name": "stdout",
     "output_type": "stream",
     "text": [
      "Classifier test accuracy: 0.9635231316725978\n"
     ]
    }
   ],
   "source": [
    "Yhat = []\n",
    "for i in range(len(testFeat)):\n",
    "    probSpam = 0\n",
    "    probHam = 0\n",
    "    for j in range(W):\n",
    "        if (testFeat[i][j] == 1):\n",
    "            probSpam += np.log(PwordSpam[j])\n",
    "            probHam += np.log(PwordHam[j])\n",
    "    \n",
    "    if (probSpam >= probHam):\n",
    "        Yhat.append(1)\n",
    "    elif(probSpam < probHam):\n",
    "        Yhat.append(0)\n",
    "\n",
    "for k in range(len(testLabels)):\n",
    "    if (Yhat[k] == testLabels[k]):\n",
    "        accuracy += 1\n",
    "accuracy /= len(testFeat)\n",
    "print(\"Classifier test accuracy: {}\".format(accuracy))        "
   ]
  },
  {
   "cell_type": "code",
   "execution_count": null,
   "metadata": {
    "collapsed": true
   },
   "outputs": [],
   "source": []
  }
 ],
 "metadata": {
  "kernelspec": {
   "display_name": "Python 3",
   "language": "python",
   "name": "python3"
  },
  "language_info": {
   "codemirror_mode": {
    "name": "ipython",
    "version": 3
   },
   "file_extension": ".py",
   "mimetype": "text/x-python",
   "name": "python",
   "nbconvert_exporter": "python",
   "pygments_lexer": "ipython3",
   "version": "3.6.1"
  }
 },
 "nbformat": 4,
 "nbformat_minor": 2
}
