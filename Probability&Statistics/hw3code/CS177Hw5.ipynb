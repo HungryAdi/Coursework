{
 "cells": [
  {
   "cell_type": "markdown",
   "metadata": {},
   "source": [
    "# CS 177 - Homework 5\n",
    "### Aditya Iyer - 24377286\n",
    "\n",
    "## Problem 1\n",
    "### a) \n",
    "\\begin{eqnarray*}\n",
    "P(link) = 1/2\\\\\n",
    "NumPairs = \\binom{n}{2}\\\\\n",
    "NumPairs = \\frac{n*(n-1)}{2}\\\\\n",
    "E[N] = P(link) * \\frac{n*(n-1)}{2}\\\\\n",
    "E[N] = 0.5 * \\frac{n*(n-1)}{2}\\\\\n",
    "E[N] = \\frac{n*(n-1)}{4}\\\\\n",
    "N = 10\\\\\n",
    "E[N] = \\frac{10*(9)}{4}\\\\\n",
    "E[N] = 22.5\\\\\n",
    "\\end{eqnarray*}\n",
    "\n",
    "### b)\n",
    "\\begin{eqnarray*}\n",
    "NumTriplets = \\binom{n}{3}\\\\\n",
    "NumTriplets = \\frac{n(n-1)(n-2)}{6}\\\\\n",
    "P(links) = \\frac{1}{2}*\\frac{1}{2}*\\frac{1}{2}\\\\\n",
    "P(links) = \\frac{1}{8}\\\\\n",
    "E[N] = \\frac{1}{8}*\\frac{n(n-1)(n-2)}{6}\\\\\n",
    "E[N] = \\frac{n(n-1)(n-2)}{48}\\\\\n",
    "n = 10\\\\\n",
    "E[N] = \\frac{10*9*8}{48}\\\\\n",
    "E[N] = 15\\\\\n",
    "\\end{eqnarray*}\n",
    "\n",
    "### c)\n",
    "\\begin{eqnarray*}\n",
    "NumNodes = \\binom{n}{k}\\\\\n",
    "P(link) = \\frac{1}{2} * \\binom{k}{2}\\\\\n",
    "E[N] = \\binom{n}{k}*\\frac{1}{2}*\\binom{k}{2}\\\\\n",
    "n = 10\\\\\n",
    "E[N]_k>=3 = \\binom{10}{k}*\\frac{1}{2}*\\binom{k}{2}\\\\\n",
    "\\end{eqnarray*}"
   ]
  },
  {
   "cell_type": "markdown",
   "metadata": {},
   "source": [
    "## Problem 2\n",
    "### a)\n",
    "* Let X1,X2,X3 and X4 be the time taken by each of the 4 individuals ahead of me\n",
    "* Total Time  Y taken by the 4 students is\n",
    "\\begin{eqnarray*}\n",
    "Y = \\sum\\limits{i=1}^{4}Xi\\\\\n",
    "Y = \\Gamma(4,\\theta)\\\\\n",
    "E[Xi] = 10\\\\\n",
    "\\theta = 1/10 \n",
    "E[Y] = \\frac{4}{\\theta}\\\\\n",
    "E[Y] = 40\\\\\n",
    "\\end{eqnarray*}\n",
    "\n",
    "### b)\n",
    "\\begin{eqnarray*}\n",
    "\\prod\\limits_{i=1}^{4}P(Xi<=15)\\\\\n",
    "\\prod\\limits_{i=1}^{4}*(\\frac{1}{10}*e^{\\frac{-1}{10}*15})\\\\\n",
    "=(0.7768698)^4\\\\\n",
    "=0.3642\\\\\n",
    "\\end{eqnarray*}\n",
    "\n",
    "### c)\n",
    "Possible Scenarios:\n",
    "* The person in front of me takes less than 10 mins.\n",
    "* The person in front of me takes greater than 10 mins but less than 16 mins.\n",
    "* The person in front of me takes greater than 16 mins.\n",
    "\n",
    "\\begin{eqnarray*}\n",
    "P(missTa) = P(10< X < 16)\\\\\n",
    "P(10 < X < 16) = 0.1659829\\\\\n",
    "\\end{eqnarray*}\n",
    "\n",
    "### d\n",
    "* A = I miss the appointment, B = I wait for 10 min\n",
    "\n",
    "\\begin{eqnarray*}\n",
    "P(B|A) = P(X < 16 | X > 10)\\\\\n",
    "P(B|A) = \\frac{P(X < 16 \\cap X > 10)}{(P(X > 10))}\\\\\n",
    "P(B|A) = \\frac{P(10 < X < 16)}{P(X > 10)}\\\\\n",
    "P(B|A) = \\frac{0.1659829}{0.36788}\\\\\n",
    "P(B|A) = 0.4511884\\\\\n",
    "\\end{eqnarray*}"
   ]
  },
  {
   "cell_type": "markdown",
   "metadata": {},
   "source": [
    "## Problem 3\n",
    "### a)\n",
    "\\begin{eqnarray*}\n",
    "P(X1 > X2) = \\sum\\limits_{n=1}^{99} (\\frac{1}{100}*\\frac{n}{100})\\\\\n",
    "P(X1 > X2) = \\frac{99*100}{2*10000}\\\\\n",
    "P(X1 > X2) = \\frac{99}{200}\\\\\n",
    "P(X1 > X2) = 0.495\n",
    "\\end{eqnarray*}\n",
    "\n",
    "### b)\n",
    "\\begin{eqnarray*}\n",
    "P(X1 > X2, X1 > X3) = \\sum\\limits_{n=1}^{99} (\\frac{1}{100}*\\frac{n}{100})^2\\\\\n",
    "P(X1 > X2, X1 > X3) = \\frac{99*100*199}{6*1000000}\\\\\n",
    "P(X1 > X2, X1 > X3) = 0.3284\\\\\n",
    "\\end{eqnarray*}\n",
    "\n",
    "### c)\n",
    "\n",
    "### d)\n",
    "\n",
    "### e)\n",
    "\\begin{eqnarray*}\n",
    "P(N > n) = \\sum\\limits_{i=n-1}^{N} \\frac{1}{100}*\\frac{101-k}{100}^i*\\frac{k-1}{100}\\\\\n",
    "P(N > n) = (\\frac{1}{100})(\\frac{101-k}{100})^{n-1}(*\\frac{k-1}{100}) (1+\\frac{101-k}{100}+\\frac{101-k}{100}^2 + ...)\\\\\n",
    "P(N > n) = (\\frac{1}{100})(\\frac{101-k}{100})^{n-1}(*\\frac{k-1}{100}) (\\frac{1}{1-(101-k/100)})   for (k>1)\\\\\n",
    "P(N > n) = (\\frac{1}{100})(\\frac{101-k}{100})^{n-1}(*\\frac{k-1}{100}) (\\frac{100}{k-1})\\\\\n",
    "P(N > n) = (\\frac{1}{100})(\\frac{101-k}{100})^{n-1}\n",
    "\\end{eqnarray*}"
   ]
  },
  {
   "cell_type": "markdown",
   "metadata": {
    "collapsed": true
   },
   "source": [
    "## Problem 4"
   ]
  },
  {
   "cell_type": "code",
   "execution_count": 1,
   "metadata": {
    "collapsed": true
   },
   "outputs": [],
   "source": [
    "# Import numpy and make floating point division the default for Python 2.x\n",
    "from __future__ import division \n",
    "import numpy as np\n",
    "import matplotlib.pyplot as plt\n",
    "\n",
    "# Load data \n",
    "S = np.load('eruptions.npy')  # vector of observed eruption times\n",
    "T = np.load('waiting.npy')    # vector of observed waiting times\n",
    "n = S.shape[0]                # number of observations\n",
    "\n",
    "# Compute mean under empirical distribution\n",
    "meanS = np.sum(S)/n\n",
    "meanT = np.sum(T)/n\n",
    "\n",
    "# Thresholds used to define X,Y variables in parts (c,d)\n",
    "threshX = 3.5\n",
    "threshY = 70\n"
   ]
  },
  {
   "cell_type": "markdown",
   "metadata": {},
   "source": [
    "### a)"
   ]
  },
  {
   "cell_type": "code",
   "execution_count": 2,
   "metadata": {},
   "outputs": [
    {
     "name": "stdout",
     "output_type": "stream",
     "text": [
      "Var[S]: 1.2979388904492861\n",
      "\n",
      "Var[T]: 184.14381487889273\n",
      "\n"
     ]
    }
   ],
   "source": [
    "varS = (1/n)*(np.sum((S - meanS)**2))\n",
    "print(\"Var[S]: {}\\n\".format(varS))\n",
    "\n",
    "''' Check if variance calcuation is correct\n",
    "Ssquare = S*S\n",
    "varS = (1/n)*np.sum(Ssquare) - ((1/n)*np.sum(S))**2\n",
    "print(varS) - output: 1.29793889045 (correct!)\n",
    "'''\n",
    "\n",
    "varT = (1/n)*(np.sum((T - meanT)**2))\n",
    "print(\"Var[T]: {}\\n\".format(varT))"
   ]
  },
  {
   "cell_type": "markdown",
   "metadata": {},
   "source": [
    "### b)"
   ]
  },
  {
   "cell_type": "code",
   "execution_count": 3,
   "metadata": {},
   "outputs": [
    {
     "name": "stdout",
     "output_type": "stream",
     "text": [
      "Eruption times: [2.1669999999999998, 4.0, 4.4669999999999996]\n",
      "\n",
      "Wait times: [58.0, 76.0, 82.0]\n",
      "\n"
     ]
    }
   ],
   "source": [
    "# sort S from smallest to largest values\n",
    "indexS = (np.argsort(S))\n",
    "S = S[indexS]\n",
    "indexT = np.argsort(T)\n",
    "T = T[indexT]\n",
    "valArr = [0.25,0.5,0.75]\n",
    "ansArr = []\n",
    "\n",
    "for i in range(len(valArr)):\n",
    "    for j in range(len(S)):\n",
    "        if ((S[j] <= j) and (j/n == valArr[i])):\n",
    "            ansArr.append(S[j])\n",
    "print(\"Eruption times: {}\\n\".format(ansArr))\n",
    "\n",
    "ansArr = []\n",
    "\n",
    "for k in range(len(valArr)):\n",
    "    for l in range(len(T)):\n",
    "        if ((T[l] <= l) and (l/n == valArr[k])):\n",
    "            ansArr.append(T[l])\n",
    "print(\"Wait times: {}\\n\".format(ansArr))\n"
   ]
  },
  {
   "cell_type": "markdown",
   "metadata": {},
   "source": [
    "### c)"
   ]
  },
  {
   "cell_type": "code",
   "execution_count": 4,
   "metadata": {},
   "outputs": [
    {
     "name": "stdout",
     "output_type": "stream",
     "text": [
      "P(X=0, Y=0): 0.3897058823529412\n",
      "P(X=0, Y=1): 0.0\n",
      "P(X=1, Y=0): 0.003676470588235294\n",
      "P(X=1, Y=1): 0.6066176470588235\n",
      "\n",
      "P(X = 1): 0.6102941176470589\n",
      "P(X = 0): 0.3897058823529411\n",
      "P(Y = 1): 0.6066176470588235\n",
      "P(Y = 0): 0.3933823529411765\n"
     ]
    }
   ],
   "source": [
    "X = np.zeros(n)\n",
    "X[S > threshX] = 1\n",
    "Y = np.zeros(n)\n",
    "Y[T > threshY] = 1\n",
    "buffer = []\n",
    "\n",
    "buffer = np.column_stack((X, Y))\n",
    "shortShort = 0\n",
    "shortLong = 0\n",
    "longShort = 0\n",
    "longLong = 0\n",
    "\n",
    "for i in buffer:\n",
    "    if ((i[0] == 0) and (i[1] == 0)):\n",
    "        shortShort += 1\n",
    "    elif ((i[0] == 0) and (i[1] == 1)):\n",
    "        shortLong += 1\n",
    "    elif ((i[0] == 1) and (i[1] == 0)):\n",
    "        longShort += 1\n",
    "    else:\n",
    "        longLong += 1\n",
    "shortShort /= n\n",
    "shortLong /= n\n",
    "longShort /= n\n",
    "longLong /= n\n",
    "\n",
    "probX = np.sum(X)/n\n",
    "probY = np.sum(Y)/n\n",
    "print(\"P(X=0, Y=0): {}\".format(shortShort))\n",
    "print(\"P(X=0, Y=1): {}\".format(shortLong))\n",
    "print(\"P(X=1, Y=0): {}\".format(longShort))\n",
    "print(\"P(X=1, Y=1): {}\\n\".format(longLong))\n",
    "print(\"P(X = 1): {}\".format(probX))\n",
    "print(\"P(X = 0): {}\".format(1-probX))\n",
    "print(\"P(Y = 1): {}\".format(probY))\n",
    "print(\"P(Y = 0): {}\".format(1-probY))"
   ]
  },
  {
   "cell_type": "markdown",
   "metadata": {},
   "source": [
    "### d)"
   ]
  },
  {
   "cell_type": "code",
   "execution_count": 5,
   "metadata": {},
   "outputs": [
    {
     "name": "stdout",
     "output_type": "stream",
     "text": [
      "Via the definition of independence:\n",
      "P(X=0)P(Y=0) = 0.15330341695501729\n",
      "P(X=0)P(Y=1) = 0.23640246539792384\n",
      "P(X=1)P(Y=0) = 0.24007893598615923\n",
      "P(X=1)P(Y=1) = 0.3702151816608997\n"
     ]
    }
   ],
   "source": [
    "print(\"Via the definition of independence:\")\n",
    "print(\"P(X=0)P(Y=0) = {:}\".format((1-probX)*(1-probY)))\n",
    "print(\"P(X=0)P(Y=1) = {:}\".format((1-probX)*probY))\n",
    "print(\"P(X=1)P(Y=0) = {:}\".format(probX*(1-probY)))\n",
    "print(\"P(X=1)P(Y=1) = {:}\".format(probX*probY))"
   ]
  },
  {
   "cell_type": "markdown",
   "metadata": {},
   "source": [
    "These values do not equal the same probabilites in part c) therefore showing that X and Y are not independent.\n"
   ]
  },
  {
   "cell_type": "code",
   "execution_count": null,
   "metadata": {
    "collapsed": true
   },
   "outputs": [],
   "source": []
  }
 ],
 "metadata": {
  "kernelspec": {
   "display_name": "Python 3",
   "language": "python",
   "name": "python3"
  },
  "language_info": {
   "codemirror_mode": {
    "name": "ipython",
    "version": 3
   },
   "file_extension": ".py",
   "mimetype": "text/x-python",
   "name": "python",
   "nbconvert_exporter": "python",
   "pygments_lexer": "ipython3",
   "version": "3.6.1"
  }
 },
 "nbformat": 4,
 "nbformat_minor": 2
}
